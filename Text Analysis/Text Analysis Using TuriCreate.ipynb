{
 "cells": [
  {
   "cell_type": "code",
   "execution_count": 1,
   "metadata": {},
   "outputs": [],
   "source": [
    "import turicreate as tc"
   ]
  },
  {
   "cell_type": "code",
   "execution_count": 2,
   "metadata": {},
   "outputs": [
    {
     "data": {
      "text/html": [
       "<pre>Finished parsing file /home/monitsharma/turitest/venv/spamdata.csv</pre>"
      ],
      "text/plain": [
       "Finished parsing file /home/monitsharma/turitest/venv/spamdata.csv"
      ]
     },
     "metadata": {},
     "output_type": "display_data"
    },
    {
     "data": {
      "text/html": [
       "<pre>Parsing completed. Parsed 100 lines in 0.147548 secs.</pre>"
      ],
      "text/plain": [
       "Parsing completed. Parsed 100 lines in 0.147548 secs."
      ]
     },
     "metadata": {},
     "output_type": "display_data"
    },
    {
     "name": "stdout",
     "output_type": "stream",
     "text": [
      "------------------------------------------------------\n",
      "Inferred types from first 100 line(s) of file as \n",
      "column_type_hints=[str,str]\n",
      "If parsing fails due to incorrect types, you can correct\n",
      "the inferred type list above and pass it to read_csv in\n",
      "the column_type_hints argument\n",
      "------------------------------------------------------\n"
     ]
    },
    {
     "data": {
      "text/html": [
       "<pre>Finished parsing file /home/monitsharma/turitest/venv/spamdata.csv</pre>"
      ],
      "text/plain": [
       "Finished parsing file /home/monitsharma/turitest/venv/spamdata.csv"
      ]
     },
     "metadata": {},
     "output_type": "display_data"
    },
    {
     "data": {
      "text/html": [
       "<pre>Parsing completed. Parsed 5572 lines in 0.138307 secs.</pre>"
      ],
      "text/plain": [
       "Parsing completed. Parsed 5572 lines in 0.138307 secs."
      ]
     },
     "metadata": {},
     "output_type": "display_data"
    }
   ],
   "source": [
    "data = tc.SFrame(\"spamdata.csv\") "
   ]
  },
  {
   "cell_type": "code",
   "execution_count": 3,
   "metadata": {},
   "outputs": [
    {
     "data": {
      "text/html": [
       "<div style=\"max-height:1000px;max-width:1500px;overflow:auto;\"><table frame=\"box\" rules=\"cols\">\n",
       "    <tr>\n",
       "        <th style=\"padding-left: 1em; padding-right: 1em; text-align: center\">Category</th>\n",
       "        <th style=\"padding-left: 1em; padding-right: 1em; text-align: center\">Message</th>\n",
       "    </tr>\n",
       "    <tr>\n",
       "        <td style=\"padding-left: 1em; padding-right: 1em; text-align: center; vertical-align: top\">ham</td>\n",
       "        <td style=\"padding-left: 1em; padding-right: 1em; text-align: center; vertical-align: top\">Go until jurong point,<br>crazy.. Available onl ...</td>\n",
       "    </tr>\n",
       "    <tr>\n",
       "        <td style=\"padding-left: 1em; padding-right: 1em; text-align: center; vertical-align: top\">ham</td>\n",
       "        <td style=\"padding-left: 1em; padding-right: 1em; text-align: center; vertical-align: top\">Ok lar... Joking wif u<br>oni... ...</td>\n",
       "    </tr>\n",
       "    <tr>\n",
       "        <td style=\"padding-left: 1em; padding-right: 1em; text-align: center; vertical-align: top\">spam</td>\n",
       "        <td style=\"padding-left: 1em; padding-right: 1em; text-align: center; vertical-align: top\">Free entry in 2 a wkly<br>comp to win FA Cup final ...</td>\n",
       "    </tr>\n",
       "    <tr>\n",
       "        <td style=\"padding-left: 1em; padding-right: 1em; text-align: center; vertical-align: top\">ham</td>\n",
       "        <td style=\"padding-left: 1em; padding-right: 1em; text-align: center; vertical-align: top\">U dun say so early hor...<br>U c already then say... ...</td>\n",
       "    </tr>\n",
       "    <tr>\n",
       "        <td style=\"padding-left: 1em; padding-right: 1em; text-align: center; vertical-align: top\">ham</td>\n",
       "        <td style=\"padding-left: 1em; padding-right: 1em; text-align: center; vertical-align: top\">Nah I don&#x27;t think he goes<br>to usf, he lives around ...</td>\n",
       "    </tr>\n",
       "    <tr>\n",
       "        <td style=\"padding-left: 1em; padding-right: 1em; text-align: center; vertical-align: top\">spam</td>\n",
       "        <td style=\"padding-left: 1em; padding-right: 1em; text-align: center; vertical-align: top\">FreeMsg Hey there darling<br>it&#x27;s been 3 week&#x27;s now ...</td>\n",
       "    </tr>\n",
       "    <tr>\n",
       "        <td style=\"padding-left: 1em; padding-right: 1em; text-align: center; vertical-align: top\">ham</td>\n",
       "        <td style=\"padding-left: 1em; padding-right: 1em; text-align: center; vertical-align: top\">Even my brother is not<br>like to speak with me. ...</td>\n",
       "    </tr>\n",
       "    <tr>\n",
       "        <td style=\"padding-left: 1em; padding-right: 1em; text-align: center; vertical-align: top\">ham</td>\n",
       "        <td style=\"padding-left: 1em; padding-right: 1em; text-align: center; vertical-align: top\">As per your request<br>&#x27;Melle Melle (Oru ...</td>\n",
       "    </tr>\n",
       "    <tr>\n",
       "        <td style=\"padding-left: 1em; padding-right: 1em; text-align: center; vertical-align: top\">spam</td>\n",
       "        <td style=\"padding-left: 1em; padding-right: 1em; text-align: center; vertical-align: top\">WINNER!! As a valued<br>network customer you  ...</td>\n",
       "    </tr>\n",
       "    <tr>\n",
       "        <td style=\"padding-left: 1em; padding-right: 1em; text-align: center; vertical-align: top\">spam</td>\n",
       "        <td style=\"padding-left: 1em; padding-right: 1em; text-align: center; vertical-align: top\">Had your mobile 11 months<br>or more? U R entitled to ...</td>\n",
       "    </tr>\n",
       "</table>\n",
       "[10 rows x 2 columns]<br/>\n",
       "</div>"
      ],
      "text/plain": [
       "Columns:\n",
       "\tCategory\tstr\n",
       "\tMessage\tstr\n",
       "\n",
       "Rows: 10\n",
       "\n",
       "Data:\n",
       "+----------+-------------------------------+\n",
       "| Category |            Message            |\n",
       "+----------+-------------------------------+\n",
       "|   ham    | Go until jurong point, cra... |\n",
       "|   ham    | Ok lar... Joking wif u oni... |\n",
       "|   spam   | Free entry in 2 a wkly com... |\n",
       "|   ham    | U dun say so early hor... ... |\n",
       "|   ham    | Nah I don't think he goes ... |\n",
       "|   spam   | FreeMsg Hey there darling ... |\n",
       "|   ham    | Even my brother is not lik... |\n",
       "|   ham    | As per your request 'Melle... |\n",
       "|   spam   | WINNER!! As a valued netwo... |\n",
       "|   spam   | Had your mobile 11 months ... |\n",
       "+----------+-------------------------------+\n",
       "[10 rows x 2 columns]"
      ]
     },
     "execution_count": 3,
     "metadata": {},
     "output_type": "execute_result"
    }
   ],
   "source": [
    "data.head()"
   ]
  },
  {
   "cell_type": "markdown",
   "metadata": {},
   "source": [
    "### Adding the Word Count"
   ]
  },
  {
   "cell_type": "code",
   "execution_count": 4,
   "metadata": {},
   "outputs": [
    {
     "data": {
      "text/html": [
       "<div style=\"max-height:1000px;max-width:1500px;overflow:auto;\"><table frame=\"box\" rules=\"cols\">\n",
       "    <tr>\n",
       "        <th style=\"padding-left: 1em; padding-right: 1em; text-align: center\">Category</th>\n",
       "        <th style=\"padding-left: 1em; padding-right: 1em; text-align: center\">Message</th>\n",
       "        <th style=\"padding-left: 1em; padding-right: 1em; text-align: center\">word_count</th>\n",
       "    </tr>\n",
       "    <tr>\n",
       "        <td style=\"padding-left: 1em; padding-right: 1em; text-align: center; vertical-align: top\">ham</td>\n",
       "        <td style=\"padding-left: 1em; padding-right: 1em; text-align: center; vertical-align: top\">Go until jurong point,<br>crazy.. Available onl ...</td>\n",
       "        <td style=\"padding-left: 1em; padding-right: 1em; text-align: center; vertical-align: top\">{&#x27;wat&#x27;: 1.0, &#x27;got&#x27;: 1.0,<br>&#x27;there&#x27;: 1.0, &#x27;cine&#x27;: ...</td>\n",
       "    </tr>\n",
       "    <tr>\n",
       "        <td style=\"padding-left: 1em; padding-right: 1em; text-align: center; vertical-align: top\">ham</td>\n",
       "        <td style=\"padding-left: 1em; padding-right: 1em; text-align: center; vertical-align: top\">Ok lar... Joking wif u<br>oni... ...</td>\n",
       "        <td style=\"padding-left: 1em; padding-right: 1em; text-align: center; vertical-align: top\">{&#x27;wif&#x27;: 1.0, &#x27;oni&#x27;: 1.0,<br>&#x27;u&#x27;: 1.0, &#x27;joking&#x27;: 1.0, ...</td>\n",
       "    </tr>\n",
       "    <tr>\n",
       "        <td style=\"padding-left: 1em; padding-right: 1em; text-align: center; vertical-align: top\">spam</td>\n",
       "        <td style=\"padding-left: 1em; padding-right: 1em; text-align: center; vertical-align: top\">Free entry in 2 a wkly<br>comp to win FA Cup final ...</td>\n",
       "        <td style=\"padding-left: 1em; padding-right: 1em; text-align: center; vertical-align: top\">{&#x27;08452810075over18&#x27;:<br>1.0, &#x27;s&#x27;: 2.0, &#x27;win&#x27;: ...</td>\n",
       "    </tr>\n",
       "    <tr>\n",
       "        <td style=\"padding-left: 1em; padding-right: 1em; text-align: center; vertical-align: top\">ham</td>\n",
       "        <td style=\"padding-left: 1em; padding-right: 1em; text-align: center; vertical-align: top\">U dun say so early hor...<br>U c already then say... ...</td>\n",
       "        <td style=\"padding-left: 1em; padding-right: 1em; text-align: center; vertical-align: top\">{&#x27;then&#x27;: 1.0, &#x27;early&#x27;:<br>1.0, &#x27;already&#x27;: 1.0, ...</td>\n",
       "    </tr>\n",
       "    <tr>\n",
       "        <td style=\"padding-left: 1em; padding-right: 1em; text-align: center; vertical-align: top\">ham</td>\n",
       "        <td style=\"padding-left: 1em; padding-right: 1em; text-align: center; vertical-align: top\">Nah I don&#x27;t think he goes<br>to usf, he lives around ...</td>\n",
       "        <td style=\"padding-left: 1em; padding-right: 1em; text-align: center; vertical-align: top\">{&#x27;though&#x27;: 1.0, &#x27;lives&#x27;:<br>1.0, &#x27;here&#x27;: 1.0, &#x27;i&#x27;: ...</td>\n",
       "    </tr>\n",
       "    <tr>\n",
       "        <td style=\"padding-left: 1em; padding-right: 1em; text-align: center; vertical-align: top\">spam</td>\n",
       "        <td style=\"padding-left: 1em; padding-right: 1em; text-align: center; vertical-align: top\">FreeMsg Hey there darling<br>it&#x27;s been 3 week&#x27;s now ...</td>\n",
       "        <td style=\"padding-left: 1em; padding-right: 1em; text-align: center; vertical-align: top\">{&#x27;rcv&#x27;: 1.0, &#x27;£1&#x27;: 1.0,<br>&#x27;chgs&#x27;: 1.0, &#x27;std&#x27;: 1.0, ...</td>\n",
       "    </tr>\n",
       "    <tr>\n",
       "        <td style=\"padding-left: 1em; padding-right: 1em; text-align: center; vertical-align: top\">ham</td>\n",
       "        <td style=\"padding-left: 1em; padding-right: 1em; text-align: center; vertical-align: top\">Even my brother is not<br>like to speak with me. ...</td>\n",
       "        <td style=\"padding-left: 1em; padding-right: 1em; text-align: center; vertical-align: top\">{&#x27;patent&#x27;: 1.0, &#x27;aids&#x27;:<br>1.0, &#x27;treat&#x27;: 1.0, ...</td>\n",
       "    </tr>\n",
       "    <tr>\n",
       "        <td style=\"padding-left: 1em; padding-right: 1em; text-align: center; vertical-align: top\">ham</td>\n",
       "        <td style=\"padding-left: 1em; padding-right: 1em; text-align: center; vertical-align: top\">As per your request<br>&#x27;Melle Melle (Oru ...</td>\n",
       "        <td style=\"padding-left: 1em; padding-right: 1em; text-align: center; vertical-align: top\">{&#x27;to&#x27;: 1.0, &#x27;9&#x27;: 1.0,<br>&#x27;copy&#x27;: 1.0, &#x27;press&#x27;: ...</td>\n",
       "    </tr>\n",
       "    <tr>\n",
       "        <td style=\"padding-left: 1em; padding-right: 1em; text-align: center; vertical-align: top\">spam</td>\n",
       "        <td style=\"padding-left: 1em; padding-right: 1em; text-align: center; vertical-align: top\">WINNER!! As a valued<br>network customer you  ...</td>\n",
       "        <td style=\"padding-left: 1em; padding-right: 1em; text-align: center; vertical-align: top\">{&#x27;only&#x27;: 1.0, &#x27;to&#x27;: 2.0,<br>&#x27;valid&#x27;: 1.0, &#x27;hours&#x27;: ...</td>\n",
       "    </tr>\n",
       "    <tr>\n",
       "        <td style=\"padding-left: 1em; padding-right: 1em; text-align: center; vertical-align: top\">spam</td>\n",
       "        <td style=\"padding-left: 1em; padding-right: 1em; text-align: center; vertical-align: top\">Had your mobile 11 months<br>or more? U R entitled to ...</td>\n",
       "        <td style=\"padding-left: 1em; padding-right: 1em; text-align: center; vertical-align: top\">{&#x27;entitled&#x27;: 1.0,<br>&#x27;colour&#x27;: 1.0, &#x27;more&#x27;: ...</td>\n",
       "    </tr>\n",
       "</table>\n",
       "[10 rows x 3 columns]<br/>\n",
       "</div>"
      ],
      "text/plain": [
       "Columns:\n",
       "\tCategory\tstr\n",
       "\tMessage\tstr\n",
       "\tword_count\tdict\n",
       "\n",
       "Rows: 10\n",
       "\n",
       "Data:\n",
       "+----------+-------------------------------+-------------------------------+\n",
       "| Category |            Message            |           word_count          |\n",
       "+----------+-------------------------------+-------------------------------+\n",
       "|   ham    | Go until jurong point, cra... | {'wat': 1.0, 'got': 1.0, '... |\n",
       "|   ham    | Ok lar... Joking wif u oni... | {'wif': 1.0, 'oni': 1.0, '... |\n",
       "|   spam   | Free entry in 2 a wkly com... | {'08452810075over18': 1.0,... |\n",
       "|   ham    | U dun say so early hor... ... | {'then': 1.0, 'early': 1.0... |\n",
       "|   ham    | Nah I don't think he goes ... | {'though': 1.0, 'lives': 1... |\n",
       "|   spam   | FreeMsg Hey there darling ... | {'rcv': 1.0, '£1': 1.0, 'c... |\n",
       "|   ham    | Even my brother is not lik... | {'patent': 1.0, 'aids': 1.... |\n",
       "|   ham    | As per your request 'Melle... | {'to': 1.0, '9': 1.0, 'cop... |\n",
       "|   spam   | WINNER!! As a valued netwo... | {'only': 1.0, 'to': 2.0, '... |\n",
       "|   spam   | Had your mobile 11 months ... | {'entitled': 1.0, 'colour'... |\n",
       "+----------+-------------------------------+-------------------------------+\n",
       "[10 rows x 3 columns]"
      ]
     },
     "execution_count": 4,
     "metadata": {},
     "output_type": "execute_result"
    }
   ],
   "source": [
    "data['word_count']= tc.text_analytics.count_words(data['Message']) \n",
    "  \n",
    "# now we can see that the data has one more column if word_count. \n",
    "data.head() "
   ]
  },
  {
   "cell_type": "markdown",
   "metadata": {},
   "source": [
    "### Splitting the Train and Test data Type\n"
   ]
  },
  {
   "cell_type": "code",
   "execution_count": 5,
   "metadata": {},
   "outputs": [],
   "source": [
    "train_data, test_data = data.random_split(.8, seed = 0)"
   ]
  },
  {
   "cell_type": "markdown",
   "metadata": {},
   "source": [
    "### Making a model\n"
   ]
  },
  {
   "cell_type": "code",
   "execution_count": 6,
   "metadata": {},
   "outputs": [
    {
     "data": {
      "text/html": [
       "<pre>Logistic regression:</pre>"
      ],
      "text/plain": [
       "Logistic regression:"
      ]
     },
     "metadata": {},
     "output_type": "display_data"
    },
    {
     "data": {
      "text/html": [
       "<pre>--------------------------------------------------------</pre>"
      ],
      "text/plain": [
       "--------------------------------------------------------"
      ]
     },
     "metadata": {},
     "output_type": "display_data"
    },
    {
     "data": {
      "text/html": [
       "<pre>Number of examples          : 4483</pre>"
      ],
      "text/plain": [
       "Number of examples          : 4483"
      ]
     },
     "metadata": {},
     "output_type": "display_data"
    },
    {
     "data": {
      "text/html": [
       "<pre>Number of classes           : 2</pre>"
      ],
      "text/plain": [
       "Number of classes           : 2"
      ]
     },
     "metadata": {},
     "output_type": "display_data"
    },
    {
     "data": {
      "text/html": [
       "<pre>Number of feature columns   : 1</pre>"
      ],
      "text/plain": [
       "Number of feature columns   : 1"
      ]
     },
     "metadata": {},
     "output_type": "display_data"
    },
    {
     "data": {
      "text/html": [
       "<pre>Number of unpacked features : 7883</pre>"
      ],
      "text/plain": [
       "Number of unpacked features : 7883"
      ]
     },
     "metadata": {},
     "output_type": "display_data"
    },
    {
     "data": {
      "text/html": [
       "<pre>Number of coefficients      : 7884</pre>"
      ],
      "text/plain": [
       "Number of coefficients      : 7884"
      ]
     },
     "metadata": {},
     "output_type": "display_data"
    },
    {
     "data": {
      "text/html": [
       "<pre>Starting L-BFGS</pre>"
      ],
      "text/plain": [
       "Starting L-BFGS"
      ]
     },
     "metadata": {},
     "output_type": "display_data"
    },
    {
     "data": {
      "text/html": [
       "<pre>--------------------------------------------------------</pre>"
      ],
      "text/plain": [
       "--------------------------------------------------------"
      ]
     },
     "metadata": {},
     "output_type": "display_data"
    },
    {
     "data": {
      "text/html": [
       "<pre>+-----------+----------+-----------+--------------+-------------------+---------------------+</pre>"
      ],
      "text/plain": [
       "+-----------+----------+-----------+--------------+-------------------+---------------------+"
      ]
     },
     "metadata": {},
     "output_type": "display_data"
    },
    {
     "data": {
      "text/html": [
       "<pre>| Iteration | Passes   | Step size | Elapsed Time | Training Accuracy | Validation Accuracy |</pre>"
      ],
      "text/plain": [
       "| Iteration | Passes   | Step size | Elapsed Time | Training Accuracy | Validation Accuracy |"
      ]
     },
     "metadata": {},
     "output_type": "display_data"
    },
    {
     "data": {
      "text/html": [
       "<pre>+-----------+----------+-----------+--------------+-------------------+---------------------+</pre>"
      ],
      "text/plain": [
       "+-----------+----------+-----------+--------------+-------------------+---------------------+"
      ]
     },
     "metadata": {},
     "output_type": "display_data"
    },
    {
     "data": {
      "text/html": [
       "<pre>| 0         | 2        | 1.000000  | 1.068665     | 0.977024          | 0.946740            |</pre>"
      ],
      "text/plain": [
       "| 0         | 2        | 1.000000  | 1.068665     | 0.977024          | 0.946740            |"
      ]
     },
     "metadata": {},
     "output_type": "display_data"
    },
    {
     "data": {
      "text/html": [
       "<pre>| 1         | 4        | 1.000000  | 1.110019     | 0.996877          | 0.971534            |</pre>"
      ],
      "text/plain": [
       "| 1         | 4        | 1.000000  | 1.110019     | 0.996877          | 0.971534            |"
      ]
     },
     "metadata": {},
     "output_type": "display_data"
    },
    {
     "data": {
      "text/html": [
       "<pre>| 2         | 5        | 1.000000  | 1.144528     | 0.999331          | 0.974288            |</pre>"
      ],
      "text/plain": [
       "| 2         | 5        | 1.000000  | 1.144528     | 0.999331          | 0.974288            |"
      ]
     },
     "metadata": {},
     "output_type": "display_data"
    },
    {
     "data": {
      "text/html": [
       "<pre>| 3         | 6        | 1.000000  | 1.176534     | 1.000000          | 0.978880            |</pre>"
      ],
      "text/plain": [
       "| 3         | 6        | 1.000000  | 1.176534     | 1.000000          | 0.978880            |"
      ]
     },
     "metadata": {},
     "output_type": "display_data"
    },
    {
     "data": {
      "text/html": [
       "<pre>| 4         | 7        | 1.000000  | 1.208224     | 1.000000          | 0.975207            |</pre>"
      ],
      "text/plain": [
       "| 4         | 7        | 1.000000  | 1.208224     | 1.000000          | 0.975207            |"
      ]
     },
     "metadata": {},
     "output_type": "display_data"
    },
    {
     "data": {
      "text/html": [
       "<pre>| 9         | 15       | 1.000000  | 1.405242     | 1.000000          | 0.975207            |</pre>"
      ],
      "text/plain": [
       "| 9         | 15       | 1.000000  | 1.405242     | 1.000000          | 0.975207            |"
      ]
     },
     "metadata": {},
     "output_type": "display_data"
    },
    {
     "data": {
      "text/html": [
       "<pre>+-----------+----------+-----------+--------------+-------------------+---------------------+</pre>"
      ],
      "text/plain": [
       "+-----------+----------+-----------+--------------+-------------------+---------------------+"
      ]
     },
     "metadata": {},
     "output_type": "display_data"
    }
   ],
   "source": [
    "model = tc.logistic_classifier.create( train_data, target ='Category', features =['word_count'], validation_set = test_data) "
   ]
  },
  {
   "cell_type": "code",
   "execution_count": 7,
   "metadata": {},
   "outputs": [
    {
     "data": {
      "text/plain": [
       "{'accuracy': 0.9752066115702479,\n",
       " 'auc': 0.9672032294871242,\n",
       " 'confusion_matrix': Columns:\n",
       " \ttarget_label\tstr\n",
       " \tpredicted_label\tstr\n",
       " \tcount\tint\n",
       " \n",
       " Rows: 4\n",
       " \n",
       " Data:\n",
       " +--------------+-----------------+-------+\n",
       " | target_label | predicted_label | count |\n",
       " +--------------+-----------------+-------+\n",
       " |     spam     |       ham       |   26  |\n",
       " |     ham      |       ham       |  941  |\n",
       " |     spam     |       spam      |  121  |\n",
       " |     ham      |       spam      |   1   |\n",
       " +--------------+-----------------+-------+\n",
       " [4 rows x 3 columns],\n",
       " 'f1_score': 0.8996282527881042,\n",
       " 'log_loss': 0.11820619280917191,\n",
       " 'precision': 0.9918032786885246,\n",
       " 'recall': 0.8231292517006803,\n",
       " 'roc_curve': Columns:\n",
       " \tthreshold\tfloat\n",
       " \tfpr\tfloat\n",
       " \ttpr\tfloat\n",
       " \tp\tint\n",
       " \tn\tint\n",
       " \n",
       " Rows: 1001\n",
       " \n",
       " Data:\n",
       " +-----------+---------------------+--------------------+-----+-----+\n",
       " | threshold |         fpr         |        tpr         |  p  |  n  |\n",
       " +-----------+---------------------+--------------------+-----+-----+\n",
       " |    0.0    |         1.0         |        1.0         | 147 | 942 |\n",
       " |   0.001   | 0.27282377919320594 | 0.9523809523809523 | 147 | 942 |\n",
       " |   0.002   | 0.21231422505307856 | 0.9523809523809523 | 147 | 942 |\n",
       " |   0.003   |  0.1624203821656051 | 0.9523809523809523 | 147 | 942 |\n",
       " |   0.004   | 0.13906581740976645 | 0.9523809523809523 | 147 | 942 |\n",
       " |   0.005   | 0.12208067940552017 | 0.9523809523809523 | 147 | 942 |\n",
       " |   0.006   |  0.1040339702760085 | 0.9523809523809523 | 147 | 942 |\n",
       " |   0.007   | 0.09660297239915075 | 0.9523809523809523 | 147 | 942 |\n",
       " |   0.008   |  0.0870488322717622 | 0.9455782312925171 | 147 | 942 |\n",
       " |   0.009   | 0.07855626326963906 | 0.9455782312925171 | 147 | 942 |\n",
       " +-----------+---------------------+--------------------+-----+-----+\n",
       " [1001 rows x 5 columns]\n",
       " Note: Only the head of the SFrame is printed.\n",
       " You can use print_rows(num_rows=m, num_columns=n) to print more rows and columns.}"
      ]
     },
     "execution_count": 7,
     "metadata": {},
     "output_type": "execute_result"
    }
   ],
   "source": [
    "#Evaluate the Accuracy\n",
    "model.evaluate(test_data)"
   ]
  },
  {
   "cell_type": "markdown",
   "metadata": {},
   "source": [
    "### Checking Manually "
   ]
  },
  {
   "cell_type": "code",
   "execution_count": 8,
   "metadata": {},
   "outputs": [
    {
     "data": {
      "text/plain": [
       "dtype: str\n",
       "Rows: 1\n",
       "['spam']"
      ]
     },
     "execution_count": 8,
     "metadata": {},
     "output_type": "execute_result"
    }
   ],
   "source": [
    "model.predict(test_data[1]) "
   ]
  },
  {
   "cell_type": "code",
   "execution_count": 9,
   "metadata": {},
   "outputs": [
    {
     "data": {
      "text/html": [
       "<div style=\"max-height:1000px;max-width:1500px;overflow:auto;\"><table frame=\"box\" rules=\"cols\">\n",
       "    <tr>\n",
       "        <th style=\"padding-left: 1em; padding-right: 1em; text-align: center\">Category</th>\n",
       "        <th style=\"padding-left: 1em; padding-right: 1em; text-align: center\">Message</th>\n",
       "        <th style=\"padding-left: 1em; padding-right: 1em; text-align: center\">word_count</th>\n",
       "    </tr>\n",
       "    <tr>\n",
       "        <td style=\"padding-left: 1em; padding-right: 1em; text-align: center; vertical-align: top\">spam</td>\n",
       "        <td style=\"padding-left: 1em; padding-right: 1em; text-align: center; vertical-align: top\">URGENT! You have won a 1<br>week FREE membership in ...</td>\n",
       "        <td style=\"padding-left: 1em; padding-right: 1em; text-align: center; vertical-align: top\">{&#x27;pobox&#x27;: 1.0, &#x27;lccltd&#x27;:<br>1.0, &#x27;www&#x27;: 1.0, &#x27;in&#x27;: ...</td>\n",
       "    </tr>\n",
       "    <tr>\n",
       "        <td style=\"padding-left: 1em; padding-right: 1em; text-align: center; vertical-align: top\">spam</td>\n",
       "        <td style=\"padding-left: 1em; padding-right: 1em; text-align: center; vertical-align: top\">XXXMobileMovieClub: To<br>use your credit, click ...</td>\n",
       "        <td style=\"padding-left: 1em; padding-right: 1em; text-align: center; vertical-align: top\">{&#x27;qjkgighjjgcbl&#x27;: 1.0,<br>&#x27;com&#x27;: 1.0, &#x27;http&#x27;: 1.0, ...</td>\n",
       "    </tr>\n",
       "    <tr>\n",
       "        <td style=\"padding-left: 1em; padding-right: 1em; text-align: center; vertical-align: top\">ham</td>\n",
       "        <td style=\"padding-left: 1em; padding-right: 1em; text-align: center; vertical-align: top\">Just forced myself to eat<br>a slice. I&#x27;m really not ...</td>\n",
       "        <td style=\"padding-left: 1em; padding-right: 1em; text-align: center; vertical-align: top\">{&#x27;lol&#x27;: 1.0, &#x27;down&#x27;: 1.0,<br>&#x27;slice&#x27;: 1.0, &#x27;forced&#x27;: ...</td>\n",
       "    </tr>\n",
       "    <tr>\n",
       "        <td style=\"padding-left: 1em; padding-right: 1em; text-align: center; vertical-align: top\">ham</td>\n",
       "        <td style=\"padding-left: 1em; padding-right: 1em; text-align: center; vertical-align: top\">Wait that&#x27;s still not all<br>that clear, were you not ...</td>\n",
       "        <td style=\"padding-left: 1em; padding-right: 1em; text-align: center; vertical-align: top\">{&#x27;us&#x27;: 1.0, &#x27;with&#x27;: 1.0,<br>&#x27;clear&#x27;: 1.0, &#x27;all&#x27;:  ...</td>\n",
       "    </tr>\n",
       "    <tr>\n",
       "        <td style=\"padding-left: 1em; padding-right: 1em; text-align: center; vertical-align: top\">ham</td>\n",
       "        <td style=\"padding-left: 1em; padding-right: 1em; text-align: center; vertical-align: top\">For fear of fainting with<br>the of all that house ...</td>\n",
       "        <td style=\"padding-left: 1em; padding-right: 1em; text-align: center; vertical-align: top\">{&#x27;a&#x27;: 1.0, &#x27;cuppa&#x27;: 1.0,<br>&#x27;have&#x27;: 1.0, &#x27;quick&#x27;: ...</td>\n",
       "    </tr>\n",
       "    <tr>\n",
       "        <td style=\"padding-left: 1em; padding-right: 1em; text-align: center; vertical-align: top\">ham</td>\n",
       "        <td style=\"padding-left: 1em; padding-right: 1em; text-align: center; vertical-align: top\">Hello! How&#x27;s you and how<br>did saturday go? I was ...</td>\n",
       "        <td style=\"padding-left: 1em; padding-right: 1em; text-align: center; vertical-align: top\">{&#x27;myself&#x27;: 1.0, &#x27;m&#x27;: 1.0,<br>&#x27;how&#x27;: 2.0, &#x27;invite&#x27;: ...</td>\n",
       "    </tr>\n",
       "    <tr>\n",
       "        <td style=\"padding-left: 1em; padding-right: 1em; text-align: center; vertical-align: top\">ham</td>\n",
       "        <td style=\"padding-left: 1em; padding-right: 1em; text-align: center; vertical-align: top\">Did I forget to tell you<br>? I want you , I need ...</td>\n",
       "        <td style=\"padding-left: 1em; padding-right: 1em; text-align: center; vertical-align: top\">{&#x27;arabian&#x27;: 1.0, &#x27;my&#x27;:<br>1.0, &#x27;love&#x27;: 1.0, &#x27;of&#x27;: ...</td>\n",
       "    </tr>\n",
       "    <tr>\n",
       "        <td style=\"padding-left: 1em; padding-right: 1em; text-align: center; vertical-align: top\">spam</td>\n",
       "        <td style=\"padding-left: 1em; padding-right: 1em; text-align: center; vertical-align: top\">Congrats! 1 year special<br>cinema pass for 2 is ...</td>\n",
       "        <td style=\"padding-left: 1em; padding-right: 1em; text-align: center; vertical-align: top\">{&#x27;out&#x27;: 1.0, &#x27;dont&#x27;: 1.0,<br>&#x27;5we&#x27;: 1.0, &#x27;ip4&#x27;: 1.0, ...</td>\n",
       "    </tr>\n",
       "    <tr>\n",
       "        <td style=\"padding-left: 1em; padding-right: 1em; text-align: center; vertical-align: top\">ham</td>\n",
       "        <td style=\"padding-left: 1em; padding-right: 1em; text-align: center; vertical-align: top\">Ha ha ha good joke. Girls<br>are situation seekers. ...</td>\n",
       "        <td style=\"padding-left: 1em; padding-right: 1em; text-align: center; vertical-align: top\">{&#x27;seekers&#x27;: 1.0, &#x27;are&#x27;:<br>1.0, &#x27;situation&#x27;: 1.0, ...</td>\n",
       "    </tr>\n",
       "    <tr>\n",
       "        <td style=\"padding-left: 1em; padding-right: 1em; text-align: center; vertical-align: top\">ham</td>\n",
       "        <td style=\"padding-left: 1em; padding-right: 1em; text-align: center; vertical-align: top\">HI BABE IM AT HOME NOW<br>WANNA DO SOMETHING? XX ...</td>\n",
       "        <td style=\"padding-left: 1em; padding-right: 1em; text-align: center; vertical-align: top\">{&#x27;wanna&#x27;: 1.0,<br>&#x27;something&#x27;: 1.0, &#x27;now&#x27;: ...</td>\n",
       "    </tr>\n",
       "</table>\n",
       "[1089 rows x 3 columns]<br/>Note: Only the head of the SFrame is printed.<br/>You can use print_rows(num_rows=m, num_columns=n) to print more rows and columns.\n",
       "</div>"
      ],
      "text/plain": [
       "Columns:\n",
       "\tCategory\tstr\n",
       "\tMessage\tstr\n",
       "\tword_count\tdict\n",
       "\n",
       "Rows: 1089\n",
       "\n",
       "Data:\n",
       "+----------+-------------------------------+-------------------------------+\n",
       "| Category |            Message            |           word_count          |\n",
       "+----------+-------------------------------+-------------------------------+\n",
       "|   spam   | URGENT! You have won a 1 w... | {'pobox': 1.0, 'lccltd': 1... |\n",
       "|   spam   | XXXMobileMovieClub: To use... | {'qjkgighjjgcbl': 1.0, 'co... |\n",
       "|   ham    | Just forced myself to eat ... | {'lol': 1.0, 'down': 1.0, ... |\n",
       "|   ham    | Wait that's still not all ... | {'us': 1.0, 'with': 1.0, '... |\n",
       "|   ham    | For fear of fainting with ... | {'a': 1.0, 'cuppa': 1.0, '... |\n",
       "|   ham    | Hello! How's you and how d... | {'myself': 1.0, 'm': 1.0, ... |\n",
       "|   ham    | Did I forget to tell you ?... | {'arabian': 1.0, 'my': 1.0... |\n",
       "|   spam   | Congrats! 1 year special c... | {'out': 1.0, 'dont': 1.0, ... |\n",
       "|   ham    | Ha ha ha good joke. Girls ... | {'seekers': 1.0, 'are': 1.... |\n",
       "|   ham    | HI BABE IM AT HOME NOW WAN... | {'wanna': 1.0, 'something'... |\n",
       "+----------+-------------------------------+-------------------------------+\n",
       "[1089 rows x 3 columns]\n",
       "Note: Only the head of the SFrame is printed.\n",
       "You can use print_rows(num_rows=m, num_columns=n) to print more rows and columns."
      ]
     },
     "execution_count": 9,
     "metadata": {},
     "output_type": "execute_result"
    }
   ],
   "source": [
    "test_data"
   ]
  },
  {
   "cell_type": "code",
   "execution_count": null,
   "metadata": {},
   "outputs": [],
   "source": []
  }
 ],
 "metadata": {
  "kernelspec": {
   "display_name": "Python 3",
   "language": "python",
   "name": "python3"
  },
  "language_info": {
   "codemirror_mode": {
    "name": "ipython",
    "version": 3
   },
   "file_extension": ".py",
   "mimetype": "text/x-python",
   "name": "python",
   "nbconvert_exporter": "python",
   "pygments_lexer": "ipython3",
   "version": "3.6.9"
  }
 },
 "nbformat": 4,
 "nbformat_minor": 4
}
